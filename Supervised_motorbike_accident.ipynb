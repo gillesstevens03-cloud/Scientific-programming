{
 "cells": [
  {
   "cell_type": "markdown",
   "id": "5c1daa7f",
   "metadata": {},
   "source": [
    "The Supervised learning code of motorcycle crash analysis"
   ]
  },
  {
   "cell_type": "code",
   "execution_count": 1,
   "id": "253b83a5",
   "metadata": {},
   "outputs": [],
   "source": [
    "import os\n",
    "import pandas as pd\n",
    "import json\n",
    "import numpy as np\n",
    "import pandas as pd\n",
    "import random\n",
    "import copy\n",
    "import matplotlib.pyplot as plt\n",
    "import seaborn as sns\n",
    "from scipy.cluster.hierarchy import linkage, dendrogram\n",
    "from sklearn.model_selection import train_test_split\n",
    "from sklearn.preprocessing import OrdinalEncoder, LabelEncoder\n",
    "from sklearn.experimental import enable_iterative_imputer\n",
    "from sklearn.impute import IterativeImputer\n",
    "from sklearn.ensemble import RandomForestClassifier\n",
    "from sklearn.preprocessing import LabelEncoder\n",
    "from sklearn.metrics import accuracy_score, precision_recall_fscore_support"
   ]
  },
  {
   "cell_type": "code",
   "execution_count": 2,
   "id": "d524b123",
   "metadata": {},
   "outputs": [
    {
     "name": "stdout",
     "output_type": "stream",
     "text": [
      "Data shape: (401, 30)\n"
     ]
    }
   ],
   "source": [
    "# Load data\n",
    "data = pd.read_excel('MotorBike_Accident_analysisUnclean.xlsx')\n",
    "print('Data shape:', data.shape)\n",
    "data = data.drop(columns = ['16. Any injury caused by motorcycle road traffic accidents over the last year? ( আপনি গত বছর কি মোটরসাইকেলজনিত কোন দুর্ঘটনায় আহত হয়েছিলেন?) '])"
   ]
  },
  {
   "cell_type": "code",
   "execution_count": null,
   "id": "25e21290",
   "metadata": {},
   "outputs": [],
   "source": []
  }
 ],
 "metadata": {
  "kernelspec": {
   "display_name": "Python 3",
   "language": "python",
   "name": "python3"
  },
  "language_info": {
   "codemirror_mode": {
    "name": "ipython",
    "version": 3
   },
   "file_extension": ".py",
   "mimetype": "text/x-python",
   "name": "python",
   "nbconvert_exporter": "python",
   "pygments_lexer": "ipython3",
   "version": "3.13.1"
  }
 },
 "nbformat": 4,
 "nbformat_minor": 5
}
