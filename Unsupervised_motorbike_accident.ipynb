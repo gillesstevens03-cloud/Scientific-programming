{
 "cells": [
  {
   "cell_type": "markdown",
   "id": "cc5d45c8",
   "metadata": {},
   "source": [
    "The unsupervised learning code of motorcycle crash analysis"
   ]
  },
  {
   "cell_type": "code",
   "execution_count": 1,
   "id": "049db103",
   "metadata": {},
   "outputs": [],
   "source": [
    "import pandas as pd\n",
    "import seaborn as sns\n",
    "import numpy as np\n",
    "from sklearn.experimental import enable_iterative_imputer\n",
    "from sklearn.impute import IterativeImputer\n",
    "from sklearn.ensemble import RandomForestClassifier\n",
    "from sklearn.preprocessing import OrdinalEncoder\n",
    "from sklearn.decomposition import PCA\n",
    "from sklearn.preprocessing import StandardScaler\n",
    "import matplotlib.pyplot as plt"
   ]
  },
  {
   "cell_type": "code",
   "execution_count": 2,
   "id": "7e55b6cc",
   "metadata": {},
   "outputs": [],
   "source": [
    "# Load unclean file\n",
    "file = 'MotorBike_Accident_analysisUnclean.xlsx'\n",
    "data = pd.read_excel(file)"
   ]
  },
  {
   "cell_type": "code",
   "execution_count": 3,
   "id": "ac4cbb30",
   "metadata": {},
   "outputs": [],
   "source": [
    "# Clean names to keep only the English part of the column names\n",
    "def clean_column(col):\n",
    "\treturn col.split('(')[0].strip()\n",
    "\n",
    "data.columns = [clean_column(col) for col in data.columns]\n",
    "\n",
    "# Remove rest of strange languege from the rows\n",
    "import re\n",
    "def remove_parentheses(text):\n",
    "\tif isinstance(text, str):\n",
    "\t\treturn re.sub(r'\\s*\\([^)]*\\)', '', text).strip()\n",
    "\treturn text\n",
    "\n",
    "for col_idx, col in enumerate(data.columns):\n",
    "\tif col_idx != 5:  \n",
    "\t\tdata[col] = data[col].apply(remove_parentheses)"
   ]
  }
 ],
 "metadata": {
  "kernelspec": {
   "display_name": "Python 3",
   "language": "python",
   "name": "python3"
  },
  "language_info": {
   "codemirror_mode": {
    "name": "ipython",
    "version": 3
   },
   "file_extension": ".py",
   "mimetype": "text/x-python",
   "name": "python",
   "nbconvert_exporter": "python",
   "pygments_lexer": "ipython3",
   "version": "3.13.1"
  }
 },
 "nbformat": 4,
 "nbformat_minor": 5
}
